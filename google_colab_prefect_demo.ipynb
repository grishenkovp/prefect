{
  "nbformat": 4,
  "nbformat_minor": 0,
  "metadata": {
    "colab": {
      "name": "google_colab_prefect_demo.ipynb",
      "provenance": [],
      "collapsed_sections": []
    },
    "kernelspec": {
      "name": "python3",
      "display_name": "Python 3"
    },
    "language_info": {
      "name": "python"
    }
  },
  "cells": [
    {
      "cell_type": "markdown",
      "source": [
        "# Prefect"
      ],
      "metadata": {
        "id": "tM6cUCm0QO1V"
      }
    },
    {
      "cell_type": "markdown",
      "source": [
        "Prefect — это фреймворк с открытым исходным кодом для построения рабочих процессов на Python. Он позволяет легко создавать, запускать и контролировать конвейеры данных различного масштаба."
      ],
      "metadata": {
        "id": "leSFJikuQLhO"
      }
    },
    {
      "cell_type": "code",
      "execution_count": 1,
      "metadata": {
        "id": "BgScyo2dPntQ"
      },
      "outputs": [],
      "source": [
        "%%capture\n",
        "!pip install prefect"
      ]
    },
    {
      "cell_type": "code",
      "source": [
        "import pandas as pd\n",
        "from prefect import task, Flow, Parameter\n",
        "import sqlite3\n",
        "import time"
      ],
      "metadata": {
        "id": "n0gwnSVZRj87"
      },
      "execution_count": 11,
      "outputs": []
    },
    {
      "cell_type": "code",
      "source": [
        "@task\n",
        "def extract(current_url:str, current_path_dataset:str):\n",
        "  df = pd.read_csv(current_url, sep=',', decimal='.')\n",
        "  df.to_parquet(current_path_dataset,index=False, partition_cols=['family_type'])"
      ],
      "metadata": {
        "id": "Acg4Cvz_SLhD"
      },
      "execution_count": 12,
      "outputs": []
    },
    {
      "cell_type": "code",
      "source": [
        "@task\n",
        "def transform(current_path_dataset:str)->pd.DataFrame:\n",
        "  time.sleep(10)\n",
        "  df = pd.read_parquet(current_path_dataset)\n",
        "  df = df[['basic_retailer','favorite_kind_cheese']]\n",
        "  df.columns = ['retailer','kind_cheese']\n",
        "  return df"
      ],
      "metadata": {
        "id": "19Q59WX7Seoj"
      },
      "execution_count": 13,
      "outputs": []
    },
    {
      "cell_type": "code",
      "source": [
        "@task\n",
        "def create_connect():\n",
        "   connect = sqlite3.connect(\"db.sqlite3\")\n",
        "   return connect"
      ],
      "metadata": {
        "id": "phBu0Gegt2lq"
      },
      "execution_count": 14,
      "outputs": []
    },
    {
      "cell_type": "code",
      "source": [
        "@task\n",
        "def load(current_df:pd.DataFrame, current_connect):\n",
        "  time.sleep(10)\n",
        "  df = current_df.groupby(by=['retailer','kind_cheese'],as_index=False)['kind_cheese'].size() \\\n",
        "                                                                              .rename(columns={\"size\": \"total_amount\"})\n",
        "  df = df.sort_values(by=['retailer','total_amount'],ascending=[True, False])\n",
        "  df.to_sql(name='result', if_exists='replace', index=False, con=current_connect)"
      ],
      "metadata": {
        "id": "mp20DL-rdiJY"
      },
      "execution_count": 15,
      "outputs": []
    },
    {
      "cell_type": "code",
      "source": [
        "@task\n",
        "def query(current_sql:str, current_connect)->pd.DataFrame:\n",
        "  time.sleep(10)\n",
        "  result = pd.read_sql(current_sql, current_connect)\n",
        "  print(result) "
      ],
      "metadata": {
        "id": "4B9vOTbtrUWJ"
      },
      "execution_count": 16,
      "outputs": []
    },
    {
      "cell_type": "code",
      "source": [
        "with Flow(\"Prefect-ETL\") as flow:\n",
        "  url_file = Parameter(\"url_file\", default=\"https://raw.githubusercontent.com/grishenkovp/project_cheese_market/main/project_v2/customers_info/customers_info_0.csv\")\n",
        "  path_dataset = Parameter(\"path_dataset\", default='/content/dataset/dataset.parquet')\n",
        "  sql = Parameter(\"sql\", default= \"\"\"select * from result\"\"\")\n",
        "  \n",
        "  extract(url_file, path_dataset)\n",
        "  data = transform(path_dataset)\n",
        "  con = create_connect()\n",
        "  load(data, con)\n",
        "  query(sql, con)"
      ],
      "metadata": {
        "id": "8GOg2pgsg86-"
      },
      "execution_count": 17,
      "outputs": []
    },
    {
      "cell_type": "code",
      "source": [
        "flow.run()"
      ],
      "metadata": {
        "id": "5G-67oC9r05z",
        "colab": {
          "base_uri": "https://localhost:8080/"
        },
        "outputId": "ae4b5298-ead6-483a-ad88-a60409bb23e6"
      },
      "execution_count": 18,
      "outputs": [
        {
          "output_type": "stream",
          "name": "stdout",
          "text": [
            "[2022-03-22 08:54:21+0000] INFO - prefect.FlowRunner | Beginning Flow run for 'Prefect-ETL'\n",
            "[2022-03-22 08:54:21+0000] INFO - prefect.TaskRunner | Task 'url_file': Starting task run...\n",
            "[2022-03-22 08:54:21+0000] INFO - prefect.TaskRunner | Task 'url_file': Finished task run for task with final state: 'Success'\n",
            "[2022-03-22 08:54:21+0000] INFO - prefect.TaskRunner | Task 'create_connect': Starting task run...\n",
            "[2022-03-22 08:54:21+0000] INFO - prefect.TaskRunner | Task 'create_connect': Finished task run for task with final state: 'Success'\n",
            "[2022-03-22 08:54:21+0000] INFO - prefect.TaskRunner | Task 'path_dataset': Starting task run...\n",
            "[2022-03-22 08:54:21+0000] INFO - prefect.TaskRunner | Task 'path_dataset': Finished task run for task with final state: 'Success'\n",
            "[2022-03-22 08:54:21+0000] INFO - prefect.TaskRunner | Task 'sql': Starting task run...\n",
            "[2022-03-22 08:54:21+0000] INFO - prefect.TaskRunner | Task 'sql': Finished task run for task with final state: 'Success'\n",
            "[2022-03-22 08:54:21+0000] INFO - prefect.TaskRunner | Task 'extract': Starting task run...\n",
            "[2022-03-22 08:54:21+0000] INFO - prefect.TaskRunner | Task 'extract': Finished task run for task with final state: 'Success'\n",
            "[2022-03-22 08:54:21+0000] INFO - prefect.TaskRunner | Task 'transform': Starting task run...\n",
            "[2022-03-22 08:54:31+0000] INFO - prefect.TaskRunner | Task 'transform': Finished task run for task with final state: 'Success'\n",
            "[2022-03-22 08:54:31+0000] INFO - prefect.TaskRunner | Task 'load': Starting task run...\n",
            "[2022-03-22 08:54:41+0000] INFO - prefect.TaskRunner | Task 'load': Finished task run for task with final state: 'Success'\n",
            "[2022-03-22 08:54:41+0000] INFO - prefect.TaskRunner | Task 'query': Starting task run...\n",
            "   retailer      kind_cheese  total_amount\n",
            "0        A1  продукты сырные           240\n",
            "1        A1      сыр твердый           230\n",
            "2        A1  сыр полутвердый           205\n",
            "3        A1       сыр мягкий           181\n",
            "4        A1      прочие сыры           156\n",
            "5        A2      сыр твердый           186\n",
            "6        A2  продукты сырные           173\n",
            "7        A2      прочие сыры           143\n",
            "8        A2       сыр мягкий           143\n",
            "9        A2  сыр полутвердый           135\n",
            "10       A3      сыр твердый           113\n",
            "11       A3  сыр полутвердый           104\n",
            "12       A3  продукты сырные            95\n",
            "13       A3      прочие сыры            88\n",
            "14       A3       сыр мягкий            69\n",
            "15       A4      сыр твердый           142\n",
            "16       A4  сыр полутвердый           110\n",
            "17       A4  продукты сырные           103\n",
            "18       A4      прочие сыры            85\n",
            "19       A4       сыр мягкий            83\n",
            "20       A5      сыр твердый            53\n",
            "21       A5  продукты сырные            51\n",
            "22       A5  сыр полутвердый            43\n",
            "23       A5      прочие сыры            41\n",
            "24       A5       сыр мягкий            40\n",
            "[2022-03-22 08:54:51+0000] INFO - prefect.TaskRunner | Task 'query': Finished task run for task with final state: 'Success'\n",
            "[2022-03-22 08:54:51+0000] INFO - prefect.FlowRunner | Flow run SUCCESS: all reference tasks succeeded\n"
          ]
        },
        {
          "output_type": "execute_result",
          "data": {
            "text/plain": [
              "<Success: \"All reference tasks succeeded.\">"
            ]
          },
          "metadata": {},
          "execution_count": 18
        }
      ]
    }
  ]
}